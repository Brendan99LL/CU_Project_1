{
 "cells": [
  {
   "cell_type": "code",
   "execution_count": 1,
   "id": "87c9de88",
   "metadata": {},
   "outputs": [],
   "source": [
    "import pandas as pd\n",
    "from pathlib import Path\n",
    "import numpy as np\n",
    "import matplotlib.pyplot as plt\n",
    "import scipy.stats as st"
   ]
  },
  {
   "cell_type": "code",
   "execution_count": 2,
   "id": "d9f609c9",
   "metadata": {},
   "outputs": [
    {
     "data": {
      "text/html": [
       "<div>\n",
       "<style scoped>\n",
       "    .dataframe tbody tr th:only-of-type {\n",
       "        vertical-align: middle;\n",
       "    }\n",
       "\n",
       "    .dataframe tbody tr th {\n",
       "        vertical-align: top;\n",
       "    }\n",
       "\n",
       "    .dataframe thead th {\n",
       "        text-align: right;\n",
       "    }\n",
       "</style>\n",
       "<table border=\"1\" class=\"dataframe\">\n",
       "  <thead>\n",
       "    <tr style=\"text-align: right;\">\n",
       "      <th></th>\n",
       "      <th>Year</th>\n",
       "      <th>Drug Name</th>\n",
       "      <th>Brand Name</th>\n",
       "      <th>Total Prescriptions</th>\n",
       "      <th>Total Patients</th>\n",
       "      <th>Drug Class</th>\n",
       "      <th>Total Cost Per Prescription</th>\n",
       "      <th>Out of Pocket Cost Per Prescription</th>\n",
       "    </tr>\n",
       "  </thead>\n",
       "  <tbody>\n",
       "    <tr>\n",
       "      <th>0</th>\n",
       "      <td>2021</td>\n",
       "      <td>Atorvastatin</td>\n",
       "      <td>Lipitor</td>\n",
       "      <td>116702335</td>\n",
       "      <td>28111470</td>\n",
       "      <td>Cholesterol lowering</td>\n",
       "      <td>19.58</td>\n",
       "      <td>4.83</td>\n",
       "    </tr>\n",
       "    <tr>\n",
       "      <th>1</th>\n",
       "      <td>2021</td>\n",
       "      <td>Metformin</td>\n",
       "      <td>Glucophage</td>\n",
       "      <td>91151043</td>\n",
       "      <td>19883763</td>\n",
       "      <td>Anti-diabetic</td>\n",
       "      <td>61.58</td>\n",
       "      <td>4.40</td>\n",
       "    </tr>\n",
       "    <tr>\n",
       "      <th>2</th>\n",
       "      <td>2021</td>\n",
       "      <td>Levothyroxine</td>\n",
       "      <td>Synthroid</td>\n",
       "      <td>89309050</td>\n",
       "      <td>19064382</td>\n",
       "      <td>Thyroid Hormone Replacement</td>\n",
       "      <td>23.92</td>\n",
       "      <td>12.01</td>\n",
       "    </tr>\n",
       "    <tr>\n",
       "      <th>3</th>\n",
       "      <td>2021</td>\n",
       "      <td>Lisinopril</td>\n",
       "      <td>Prinivil/Zestril</td>\n",
       "      <td>88272557</td>\n",
       "      <td>20475892</td>\n",
       "      <td>Anti-hypertensive</td>\n",
       "      <td>10.94</td>\n",
       "      <td>3.93</td>\n",
       "    </tr>\n",
       "    <tr>\n",
       "      <th>4</th>\n",
       "      <td>2021</td>\n",
       "      <td>Amlodipine</td>\n",
       "      <td>Norvasc</td>\n",
       "      <td>73569606</td>\n",
       "      <td>17734288</td>\n",
       "      <td>Anti-hypertensive</td>\n",
       "      <td>8.99</td>\n",
       "      <td>3.85</td>\n",
       "    </tr>\n",
       "    <tr>\n",
       "      <th>...</th>\n",
       "      <td>...</td>\n",
       "      <td>...</td>\n",
       "      <td>...</td>\n",
       "      <td>...</td>\n",
       "      <td>...</td>\n",
       "      <td>...</td>\n",
       "      <td>...</td>\n",
       "      <td>...</td>\n",
       "    </tr>\n",
       "    <tr>\n",
       "      <th>85</th>\n",
       "      <td>2013</td>\n",
       "      <td>Omeprazole</td>\n",
       "      <td>Prilosec</td>\n",
       "      <td>67642688</td>\n",
       "      <td>13210834</td>\n",
       "      <td>Antacid (PPI)</td>\n",
       "      <td>45.86</td>\n",
       "      <td>7.49</td>\n",
       "    </tr>\n",
       "    <tr>\n",
       "      <th>86</th>\n",
       "      <td>2013</td>\n",
       "      <td>Atorvastatin</td>\n",
       "      <td>Lipitor</td>\n",
       "      <td>65174783</td>\n",
       "      <td>13077835</td>\n",
       "      <td>Cholesterol lowering</td>\n",
       "      <td>71.26</td>\n",
       "      <td>11.65</td>\n",
       "    </tr>\n",
       "    <tr>\n",
       "      <th>87</th>\n",
       "      <td>2013</td>\n",
       "      <td>Amlodipine</td>\n",
       "      <td>Norvasc</td>\n",
       "      <td>62816160</td>\n",
       "      <td>11513217</td>\n",
       "      <td>Anti-hypertensive</td>\n",
       "      <td>24.31</td>\n",
       "      <td>6.81</td>\n",
       "    </tr>\n",
       "    <tr>\n",
       "      <th>88</th>\n",
       "      <td>2013</td>\n",
       "      <td>Acetaminophen; Hydrocodone</td>\n",
       "      <td>Vicodin</td>\n",
       "      <td>58483370</td>\n",
       "      <td>19957098</td>\n",
       "      <td>Analgesic</td>\n",
       "      <td>22.42</td>\n",
       "      <td>8.19</td>\n",
       "    </tr>\n",
       "    <tr>\n",
       "      <th>89</th>\n",
       "      <td>2013</td>\n",
       "      <td>Hydrochlorothiazide</td>\n",
       "      <td>Microzide</td>\n",
       "      <td>49854894</td>\n",
       "      <td>10064252</td>\n",
       "      <td>Diuretic/Anti-hypertensive</td>\n",
       "      <td>9.33</td>\n",
       "      <td>4.35</td>\n",
       "    </tr>\n",
       "  </tbody>\n",
       "</table>\n",
       "<p>90 rows × 8 columns</p>\n",
       "</div>"
      ],
      "text/plain": [
       "    Year                   Drug Name         Brand Name  Total Prescriptions  \\\n",
       "0   2021                Atorvastatin            Lipitor            116702335   \n",
       "1   2021                   Metformin         Glucophage             91151043   \n",
       "2   2021               Levothyroxine         Synthroid              89309050   \n",
       "3   2021                  Lisinopril  Prinivil/Zestril              88272557   \n",
       "4   2021                  Amlodipine            Norvasc             73569606   \n",
       "..   ...                         ...                ...                  ...   \n",
       "85  2013                  Omeprazole           Prilosec             67642688   \n",
       "86  2013                Atorvastatin            Lipitor             65174783   \n",
       "87  2013                  Amlodipine            Norvasc             62816160   \n",
       "88  2013  Acetaminophen; Hydrocodone            Vicodin             58483370   \n",
       "89  2013         Hydrochlorothiazide          Microzide             49854894   \n",
       "\n",
       "    Total Patients                   Drug Class  Total Cost Per Prescription  \\\n",
       "0         28111470         Cholesterol lowering                        19.58   \n",
       "1         19883763                Anti-diabetic                        61.58   \n",
       "2         19064382  Thyroid Hormone Replacement                        23.92   \n",
       "3         20475892            Anti-hypertensive                        10.94   \n",
       "4         17734288            Anti-hypertensive                         8.99   \n",
       "..             ...                          ...                          ...   \n",
       "85        13210834                Antacid (PPI)                        45.86   \n",
       "86        13077835         Cholesterol lowering                        71.26   \n",
       "87        11513217            Anti-hypertensive                        24.31   \n",
       "88        19957098                    Analgesic                        22.42   \n",
       "89        10064252   Diuretic/Anti-hypertensive                         9.33   \n",
       "\n",
       "    Out of Pocket Cost Per Prescription  \n",
       "0                                  4.83  \n",
       "1                                  4.40  \n",
       "2                                 12.01  \n",
       "3                                  3.93  \n",
       "4                                  3.85  \n",
       "..                                  ...  \n",
       "85                                 7.49  \n",
       "86                                11.65  \n",
       "87                                 6.81  \n",
       "88                                 8.19  \n",
       "89                                 4.35  \n",
       "\n",
       "[90 rows x 8 columns]"
      ]
     },
     "execution_count": 2,
     "metadata": {},
     "output_type": "execute_result"
    }
   ],
   "source": [
    "# Reading each individual sheet, making each sheet into a dataframe\n",
    "\n",
    "# Path to original file\n",
    "xls = pd.ExcelFile('./Resources/CU_Project_1_final.xlsx')\n",
    "\n",
    "# Renaming each sheet into a dataframe\n",
    "top_drugs_df = pd.read_excel(xls, 'Top 10 Drugs All Years')\n",
    "\n",
    "#top_2021_df = pd.read_excel(xls, 'Top 10 Drugs of 2021')\n",
    "#top_2020_df = pd.read_excel(xls, 'Top 10 Drugs of 2020')\n",
    "#top_2019_df = pd.read_excel(xls, 'Top 10 Drugs of 2019')\n",
    "#top_2018_df = pd.read_excel(xls, 'Top 10 Drugs of 2018')\n",
    "#top_2017_df = pd.read_excel(xls, 'Top 10 Drugs of 2017')\n",
    "#top_2016_df = pd.read_excel(xls, 'Top 10 Drugs of 2016')\n",
    "#top_2015_df = pd.read_excel(xls, 'Top 10 Drugs of 2015')\n",
    "#top_2014_df = pd.read_excel(xls, 'Top 10 Drugs of 2014')\n",
    "#top_2013_df = pd.read_excel(xls, 'Top 10 Drugs of 2013')\n",
    "#ator_df = pd.read_excel(xls, 'Atorvastatin')\n",
    "#lisin_df = pd.read_excel(xls, 'Lisinopril')\n",
    "#met_df = pd.read_excel(xls, 'Metformin')\n",
    "\n",
    "top_drugs_df"
   ]
  },
  {
   "cell_type": "code",
   "execution_count": 3,
   "id": "f4868bc3",
   "metadata": {},
   "outputs": [
    {
     "data": {
      "text/plain": [
       "Drug Name\n",
       "Atorvastatin                  9\n",
       "Metformin                     9\n",
       "Levothyroxine                 9\n",
       "Lisinopril                    9\n",
       "Amlodipine                    9\n",
       "Metoprolol                    9\n",
       "Omeprazole                    9\n",
       "Albuterol                     7\n",
       "Losartan                      6\n",
       "Simvastatin                   6\n",
       "Gabapentin                    3\n",
       "Acetaminophen; Hydrocodone    3\n",
       "Hydrochlorothiazide           2\n",
       "Name: count, dtype: int64"
      ]
     },
     "execution_count": 3,
     "metadata": {},
     "output_type": "execute_result"
    }
   ],
   "source": [
    "# Value counts of unique medications listed through the years\n",
    "\n",
    "# List the unique drug names\n",
    "drug_names = top_drugs_df[\"Drug Name\"]\n",
    "unique_drug_names = drug_names.unique()\n",
    "#print(unique_drug_names)\n",
    "\n",
    "unique_drug_names_count = top_drugs_df['Drug Name'].value_counts()\n",
    "unique_drug_names_count"
   ]
  },
  {
   "cell_type": "code",
   "execution_count": 4,
   "id": "60eb3775",
   "metadata": {},
   "outputs": [],
   "source": [
    "# Grouping each individual drug by making lists\n",
    "\n",
    "total_costs = top_drugs_df[\"Total Cost Per Prescription\"]\n",
    "out_of_pocket_costs = top_drugs_df[\"Out of Pocket Cost Per Prescription\"]\n",
    "\n",
    "ator = top_drugs_df[drug_names == \"Atorvastatin\"]\n",
    "met = top_drugs_df[drug_names == \"Metformin\"]\n",
    "levo = top_drugs_df[drug_names == \"Levothyroxine\"]\n",
    "lisin = top_drugs_df[drug_names == \"Lisinopril\"]\n",
    "amlo = top_drugs_df[drug_names == \"Amlodipine\"]\n",
    "meto = top_drugs_df[drug_names == \"Metoprolol\"]\n",
    "omepra = top_drugs_df[drug_names == \"Omeprazole\"]"
   ]
  },
  {
   "cell_type": "code",
   "execution_count": 5,
   "id": "2d76ab6c",
   "metadata": {},
   "outputs": [
    {
     "data": {
      "text/plain": [
       "Drug Class\n",
       "Anti-hypertensive              3\n",
       "Cholesterol lowering           2\n",
       "Thyroid Hormone Replacement    1\n",
       "Anti-diabetic                  1\n",
       "Antacid (PPI)                  1\n",
       "Analgesic                      1\n",
       "Diuretic/Anti-hypertensive     1\n",
       "Name: count, dtype: int64"
      ]
     },
     "execution_count": 5,
     "metadata": {},
     "output_type": "execute_result"
    }
   ],
   "source": [
    "# Value count of types of medications filled in 2013\n",
    "\n",
    "years = top_drugs_df[\"Year\"]\n",
    "drug_class = top_drugs_df[\"Drug Class\"]\n",
    "\n",
    "year_2013 = '2013'\n",
    "filtered_year_2013 = top_drugs_df[top_drugs_df['Year'] == 2013]\n",
    "drug_class_counts_2013 = filtered_year_2013['Drug Class'].value_counts()\n",
    "drug_class_counts_2013"
   ]
  },
  {
   "cell_type": "code",
   "execution_count": null,
   "id": "3153ef57",
   "metadata": {
    "scrolled": true
   },
   "outputs": [],
   "source": [
    "# Pie graph for types of medications filled in 2013\n",
    "\n",
    "# Pull the data from the sheet we need\n",
    "# Labels for the pie chart\n",
    "labels = [\"Anti-hypertensive\", \"Thyroid Hormone Replacement\", \"Cholesterol lowering\", \"Anti-diabetic\", \"Antacid (PPI)\", \"Analgesic\", \"Diuretic/Anti-hypertensive\"]\n",
    "sizes = [3, 1, 2, 1, 1, 1, 1]\n",
    "explode = (0.1, 0, 0.05, 0.05, 0, 0, 0)\n",
    "\n",
    "# Plot\n",
    "plt.pie(sizes, explode = explode, labels = labels, autopct = \"%1.1f%%\", textprops = {'fontsize': 8}, shadow = True)\n",
    "plt.title(\"Top 10 Drug Classes of 2013\")\n",
    "\n",
    "plt.savefig(\"Top_10_Drug_Classes_of_2013.jpg\")\n",
    "\n",
    "plt.show()"
   ]
  },
  {
   "cell_type": "code",
   "execution_count": 6,
   "id": "957d3121",
   "metadata": {},
   "outputs": [
    {
     "data": {
      "text/plain": [
       "Drug Class\n",
       "Anti-hypertensive              4\n",
       "Cholesterol lowering           2\n",
       "Thyroid Hormone Replacement    1\n",
       "Anti-diabetic                  1\n",
       "Antacid (PPI)                  1\n",
       "Bronchodilator                 1\n",
       "Name: count, dtype: int64"
      ]
     },
     "execution_count": 6,
     "metadata": {},
     "output_type": "execute_result"
    }
   ],
   "source": [
    "# Value count of types of medications filled in 2017\n",
    "\n",
    "years = top_drugs_df[\"Year\"]\n",
    "drug_class = top_drugs_df[\"Drug Class\"]\n",
    "\n",
    "year_2017 = '2017'\n",
    "filtered_year_2017 = top_drugs_df[top_drugs_df['Year'] == 2017]\n",
    "drug_class_counts_2017 = filtered_year_2017['Drug Class'].value_counts()\n",
    "drug_class_counts_2017"
   ]
  },
  {
   "cell_type": "code",
   "execution_count": 7,
   "id": "f19f2f89",
   "metadata": {},
   "outputs": [
    {
     "data": {
      "image/png": "[encoded data removed]",
      "text/plain": [
       "<Figure size 640x480 with 1 Axes>"
      ]
     },
     "metadata": {},
     "output_type": "display_data"
    }
   ],
   "source": [
    "# Pie graph for types of medications filled in 2017\n",
    "\n",
    "# Pull the data from the sheet we need\n",
    "# Labels for the pie chart\n",
    "labels = [\"Anti-hypertensive\", \"Cholesterol lowering\", \"Anti-diabetic\", \"Thyroid Hormone Replacement\", \"Bronchodilator\", \"Antacid (PPI)\"]\n",
    "sizes = [4, 2, 1, 1, 1, 1]\n",
    "explode = (0.1, 0.05, 0.05, 0, 0, 0)\n",
    "\n",
    "# Plot\n",
    "plt.pie(sizes, explode = explode, labels = labels, autopct = \"%1.1f%%\", textprops = {'fontsize': 10}, shadow = True)\n",
    "plt.title(\"Top 10 Drug Classes of 2017\")\n",
    "\n",
    "plt.savefig(\"Top_10_Drug_Classes_of_2017.jpg\")\n",
    "\n",
    "plt.show()"
   ]
  },
  {
   "cell_type": "code",
   "execution_count": 8,
   "id": "888f30f9",
   "metadata": {},
   "outputs": [
    {
     "data": {
      "text/plain": [
       "Drug Class\n",
       "Anti-hypertensive              4\n",
       "Cholesterol lowering           1\n",
       "Anti-diabetic                  1\n",
       "Thyroid Hormone Replacement    1\n",
       "Bronchodilator                 1\n",
       "Antacid (PPI)                  1\n",
       "Anti-convulsant                1\n",
       "Name: count, dtype: int64"
      ]
     },
     "execution_count": 8,
     "metadata": {},
     "output_type": "execute_result"
    }
   ],
   "source": [
    "# Value count of types drugs in 2021\n",
    "\n",
    "year_2021 = '2021'\n",
    "filtered_year_2021 = top_drugs_df[top_drugs_df['Year'] == 2021]\n",
    "drug_class_counts_2021 = filtered_year_2021['Drug Class'].value_counts()\n",
    "drug_class_counts_2021"
   ]
  },
  {
   "cell_type": "code",
   "execution_count": 9,
   "id": "250fe77f",
   "metadata": {},
   "outputs": [
    {
     "data": {
      "image/png": "[encoded data removed]",
      "text/plain": [
       "<Figure size 640x480 with 1 Axes>"
      ]
     },
     "metadata": {},
     "output_type": "display_data"
    }
   ],
   "source": [
    "# Pie graph for types of medications filled in 2021\n",
    "\n",
    "# Pull the data from the sheet we need\n",
    "# Labels for the pie chart\n",
    "labels = [\"Anti-hypertensive\", \"Cholesterol lowering\", \"Anti-diabetic\", \"Thyroid Hormone Replacement\", \"Bronchodilator\", \"Antacid (PPI)\", \"Anti-convulsant\"]\n",
    "sizes = [4, 1, 1, 1, 1, 1, 1]\n",
    "explode = (0.1, 0.05, 0.05, 0., 0, 0, 0)\n",
    "\n",
    "# Plot\n",
    "plt.pie(sizes, explode = explode, labels = labels, autopct = \"%1.1f%%\", textprops = {'fontsize': 10}, shadow = True)\n",
    "plt.title(\"Top 10 Drug Classes of 2021\")\n",
    "\n",
    "plt.savefig(\"Top_10_Drug_Classes_of_2021.jpg\")\n",
    "\n",
    "plt.show()"
   ]
  },
  {
   "cell_type": "code",
   "execution_count": null,
   "id": "264feb7f",
   "metadata": {},
   "outputs": [],
   "source": [
    "# Bar graph showing the trend of total prescriptions filled for Atorvastatin over the years\n",
    "\n",
    "year_x_axis = list(ator['Year'])\n",
    "prescriptions_filled = list(ator['Total Prescriptions'])\n",
    "\n",
    "plt.bar(year_x_axis, prescriptions_filled, color = \"firebrick\", alpha = 0.5, align = \"center\")\n",
    "\n",
    "plt.xlabel(\"Years\")\n",
    "plt.ylabel(\"Total Prescriptions Filled\")\n",
    "plt.title(\"Total Atorvastatin Prescriptions Filled\")\n",
    "plt.xticks(year_x_axis, ator['Year'])\n",
    "\n",
    "plt.savefig(\"Total_Atorvastatin_Prescriptions_Filled.jpg\")\n",
    "\n",
    "plt.show()"
   ]
  },
  {
   "cell_type": "code",
   "execution_count": null,
   "id": "5d2699f4",
   "metadata": {},
   "outputs": [],
   "source": [
    "# Bar graph showing the trend of total prescriptions filled for Metformin over the years\n",
    "\n",
    "year_x_axis = list(met['Year'])\n",
    "prescriptions_filled = list(met['Total Prescriptions'])\n",
    "\n",
    "plt.bar(year_x_axis, prescriptions_filled, color = \"darkgoldenrod\", alpha = 0.5, align = \"center\")\n",
    "\n",
    "plt.xlabel(\"Years\")\n",
    "plt.ylabel(\"Total Prescriptions Filled\")\n",
    "plt.title(\"Total Metformin Prescriptions Filled\")\n",
    "plt.xticks(year_x_axis, met['Year'])\n",
    "\n",
    "plt.savefig(\"Total_Metformin_Prescriptions_Filled.jpg\")\n",
    "\n",
    "plt.show()"
   ]
  },
  {
   "cell_type": "code",
   "execution_count": null,
   "id": "27cac2b1",
   "metadata": {},
   "outputs": [],
   "source": [
    "# Bar graph showing the trend of total prescriptions filled for Omeprazole over the years\n",
    "\n",
    "year_x_axis = list(omepra['Year'])\n",
    "prescriptions_filled = list(omepra['Total Prescriptions'])\n",
    "\n",
    "plt.bar(year_x_axis, prescriptions_filled, color = \"rebeccapurple\", alpha = 0.5, align = \"center\")\n",
    "\n",
    "plt.xlabel(\"Years\")\n",
    "plt.ylabel(\"Total Prescriptions Filled\")\n",
    "plt.title(\"Total Omeprazole Prescriptions Filled\")\n",
    "plt.xticks(year_x_axis, omepra['Year'])\n",
    "\n",
    "plt.savefig(\"Total_Omeprazole_Prescriptions_Filled.jpg\")\n",
    "\n",
    "plt.show()"
   ]
  },
  {
   "cell_type": "code",
   "execution_count": null,
   "id": "55ea5038",
   "metadata": {},
   "outputs": [],
   "source": [
    "# Line graph for atorvastatin\n",
    "\n",
    "x_axis_data = list(ator['Year'])\n",
    "y_axis_data = list(ator['Total Cost Per Prescription'])\n",
    "y_axis_data_2 = list(ator['Out of Pocket Cost Per Prescription'])"
   ]
  },
  {
   "cell_type": "code",
   "execution_count": null,
   "id": "4b1604d0",
   "metadata": {},
   "outputs": [],
   "source": [
    "plt.plot(x_axis_data, y_axis_data, marker = \"o\", color = \"turquoise\", label = \"Total Cost Per Prescription\")\n",
    "plt.plot(x_axis_data, y_axis_data_2, marker = \"^\", color = \"navy\", label = \"Out of Pocket Cost Per Prescription\")\n",
    "\n",
    "plt.xlabel(\"Year\")\n",
    "plt.ylabel(\"Cost in Dollars\")\n",
    "plt.title(\"Cost Per Prescription Fill for Atorvastatin\")\n",
    "plt.legend(loc = \"best\")\n",
    "\n",
    "for i, txt in enumerate(y_axis_data):\n",
    "    plt.annotate(txt, (x_axis_data[i], y_axis_data[i]), textcoords = \"offset points\", xytext = (0, 10), ha = 'center')\n",
    "\n",
    "    #plt.annotate(txt, (x_axis_data[i], y_axis_data[i]), textcoords = \"offset points\", xytext = (0, 10), ha = 'center')\n",
    "\n",
    "for i, txt in enumerate(y_axis_data_2):\n",
    "    plt.annotate(txt, (x_axis_data[i], y_axis_data_2[i]), textcoords = \"offset points\", xytext = (0, 10), ha = 'center')\n",
    "\n",
    "plt.savefig(\"Cost_Per_Prescription_Fill_for_Atorvastatin.jpg\")    \n",
    "    \n",
    "plt.show()"
   ]
  },
  {
   "cell_type": "code",
   "execution_count": null,
   "id": "c83e01e4",
   "metadata": {},
   "outputs": [],
   "source": [
    "# We can use the prices of metformin to explain the drastic increase in cost\n",
    "# Explain that insurance is covering more for this medication (relate it to covid)\n",
    "\n",
    "# Line graph\n",
    "\n",
    "x_axis_data = list(met['Year'])\n",
    "y_axis_data = list(met['Total Cost Per Prescription'])\n",
    "y_axis_data_2 = list(met['Out of Pocket Cost Per Prescription'])"
   ]
  },
  {
   "cell_type": "code",
   "execution_count": null,
   "id": "893b9704",
   "metadata": {
    "scrolled": true
   },
   "outputs": [],
   "source": [
    "plt.plot(x_axis_data, y_axis_data, marker = \"o\", color = \"purple\", label = \"Total Cost Per Prescription\")\n",
    "plt.plot(x_axis_data, y_axis_data_2, marker = \"^\", color = \"magenta\", label = \"Out of Pocket Cost Per Prescription\")\n",
    "\n",
    "plt.xlabel(\"Year\")\n",
    "plt.ylabel(\"Cost in Dollars\")\n",
    "plt.title(\"Cost Per Prescription Fill for Metformin\")\n",
    "plt.legend(loc = \"best\")\n",
    "\n",
    "for i, txt in enumerate(y_axis_data):\n",
    "    plt.annotate(txt, (x_axis_data[i], y_axis_data[i]), textcoords = \"offset points\", xytext = (0, 10), ha = 'center')\n",
    "\n",
    "    #plt.annotate(txt, (x_axis_data[i], y_axis_data[i]), textcoords = \"offset points\", xytext = (0, 10), ha = 'center')\n",
    "\n",
    "for i, txt in enumerate(y_axis_data_2):\n",
    "    plt.annotate(txt, (x_axis_data[i], y_axis_data_2[i]), textcoords = \"offset points\", xytext = (0, 10), ha = 'center')\n",
    "\n",
    "plt.savefig(\"Cost_Per_Prescription_Fill_for_Metformin.jpg\")    \n",
    "    \n",
    "    \n",
    "plt.show()"
   ]
  },
  {
   "cell_type": "code",
   "execution_count": null,
   "id": "0b0451a1",
   "metadata": {},
   "outputs": [],
   "source": [
    "# Variables for omeprazole\n",
    "\n",
    "x_axis_data = list(omepra['Year'])\n",
    "y_axis_data = list(omepra['Total Cost Per Prescription'])\n",
    "y_axis_data_2 = list(omepra['Out of Pocket Cost Per Prescription'])"
   ]
  },
  {
   "cell_type": "code",
   "execution_count": null,
   "id": "9e062b9e",
   "metadata": {},
   "outputs": [],
   "source": [
    "# Line graph for omeprazole (different drug class)\n",
    "\n",
    "plt.plot(x_axis_data, y_axis_data, marker = \"o\", color = \"dodgerblue\", label = \"Total Cost Per Prescription\")\n",
    "plt.plot(x_axis_data, y_axis_data_2, marker = \"^\", color = \"crimson\", label = \"Out of Pocket Cost Per Prescription\")\n",
    "\n",
    "plt.xlabel(\"Year\")\n",
    "plt.ylabel(\"Cost in Dollars\")\n",
    "plt.title(\"Cost Per Prescription Fill for Omeprazole\")\n",
    "plt.legend(loc = \"best\")\n",
    "\n",
    "for i, txt in enumerate(y_axis_data):\n",
    "    plt.annotate(txt, (x_axis_data[i], y_axis_data[i]), textcoords = \"offset points\", xytext = (0, 10), ha = 'center')\n",
    "\n",
    "    #plt.annotate(txt, (x_axis_data[i], y_axis_data[i]), textcoords = \"offset points\", xytext = (0, 10), ha = 'center')\n",
    "\n",
    "for i, txt in enumerate(y_axis_data_2):\n",
    "    plt.annotate(txt, (x_axis_data[i], y_axis_data_2[i]), textcoords = \"offset points\", xytext = (0, 10), ha = 'center')\n",
    "\n",
    "plt.savefig(\"Cost_Per_Prescription_Fill_for_Omeprazole.jpg\")    \n",
    "    \n",
    "    \n",
    "plt.show()"
   ]
  },
  {
   "cell_type": "code",
   "execution_count": null,
   "id": "9ba1edbc",
   "metadata": {},
   "outputs": [],
   "source": [
    "# The pie charts show basically the same results, so we need to explain why the data shows 60% of medications filled in the\n",
    "# top 10 are medications that can help treat cardiovascular illnesses"
   ]
  },
  {
   "cell_type": "code",
   "execution_count": null,
   "id": "5e87d197",
   "metadata": {},
   "outputs": [],
   "source": []
  }
 ],
 "metadata": {
  "kernelspec": {
   "display_name": "Python 3 (ipykernel)",
   "language": "python",
   "name": "python3"
  },
  "language_info": {
   "codemirror_mode": {
    "name": "ipython",
    "version": 3
   },
   "file_extension": ".py",
   "mimetype": "text/x-python",
   "name": "python",
   "nbconvert_exporter": "python",
   "pygments_lexer": "ipython3",
   "version": "3.11.7"
  }
 },
 "nbformat": 4,
 "nbformat_minor": 5
}
